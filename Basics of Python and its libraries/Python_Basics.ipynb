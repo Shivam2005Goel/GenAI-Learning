{
 "cells": [
  {
   "cell_type": "markdown",
   "id": "9b581692-f43b-4767-bf5d-30c2b0b1876d",
   "metadata": {},
   "source": [
    "Initialising the numpy"
   ]
  },
  {
   "cell_type": "code",
   "execution_count": null,
   "id": "1a135638-ad84-4dfd-8662-f3eea3d20d76",
   "metadata": {},
   "outputs": [],
   "source": [
    "\n",
    "import numpy as np\n",
    "arr = np.array([1,2,3])\n",
    "print(arr)\n"
   ]
  },
  {
   "cell_type": "code",
   "execution_count": null,
   "id": "266a054f-72bc-451b-9e2a-9b81133cd9df",
   "metadata": {},
   "outputs": [
    {
     "name": "stdout",
     "output_type": "stream",
     "text": [
      "(3,)\n"
     ]
    }
   ],
   "source": [
    "shape = arr.shape\n",
    "print(shape)"
   ]
  },
  {
   "cell_type": "code",
   "execution_count": null,
   "id": "e2d243dd-555e-49a1-b81f-2412b8b1fd19",
   "metadata": {},
   "outputs": [
    {
     "name": "stdout",
     "output_type": "stream",
     "text": [
      "[[1 2 3]\n",
      " [4 5 6]\n",
      " [7 8 9]]\n"
     ]
    }
   ],
   "source": [
    "l1 = [1,2,3]\n",
    "l2 = [4,5,6]\n",
    "l3 = [7,8,9]\n",
    "arr1 = np.array([l1,l2,l3])\n",
    "print(arr1)"
   ]
  },
  {
   "cell_type": "code",
   "execution_count": null,
   "id": "4e61013b-4e37-452e-8eb5-6e7f42352281",
   "metadata": {},
   "outputs": [
    {
     "data": {
      "text/plain": [
       "(3, 3)"
      ]
     },
     "execution_count": 11,
     "metadata": {},
     "output_type": "execute_result"
    }
   ],
   "source": [
    "arr1.shape"
   ]
  },
  {
   "cell_type": "code",
   "execution_count": null,
   "id": "15dc1666-7331-449a-a663-6ce95d6972da",
   "metadata": {},
   "outputs": [
    {
     "name": "stdout",
     "output_type": "stream",
     "text": [
      "[1 2 3]\n"
     ]
    }
   ],
   "source": [
    "print(arr1[0])"
   ]
  },
  {
   "cell_type": "markdown",
   "id": "4611bde0-4536-473e-8d8f-37a5774bbddf",
   "metadata": {},
   "source": [
    "#Indexing in the 2d array"
   ]
  },
  {
   "cell_type": "code",
   "execution_count": null,
   "id": "bfab9279-aed4-4732-be91-7a3d247d3ae7",
   "metadata": {},
   "outputs": [
    {
     "data": {
      "text/plain": [
       "array([[6],\n",
       "       [9]])"
      ]
     },
     "execution_count": 14,
     "metadata": {},
     "output_type": "execute_result"
    }
   ],
   "source": [
    "arr1[1:3,2:3]"
   ]
  },
  {
   "cell_type": "code",
   "execution_count": null,
   "id": "5b04bf18-0763-4d72-8704-8c368eac3761",
   "metadata": {},
   "outputs": [
    {
     "name": "stdout",
     "output_type": "stream",
     "text": [
      "[ True False False]\n"
     ]
    }
   ],
   "source": [
    "print(arr < 2)"
   ]
  },
  {
   "cell_type": "code",
   "execution_count": null,
   "id": "05e80e32-cb83-4f6e-8fb7-ae4d41aaef9c",
   "metadata": {},
   "outputs": [
    {
     "data": {
      "text/plain": [
       "array([1])"
      ]
     },
     "execution_count": 16,
     "metadata": {},
     "output_type": "execute_result"
    }
   ],
   "source": [
    "arr[arr < 2]"
   ]
  },
  {
   "cell_type": "code",
   "execution_count": null,
   "id": "77bdbf51-e293-48c5-be88-fbf7a54279f0",
   "metadata": {},
   "outputs": [],
   "source": []
  }
 ],
 "metadata": {
  "kernelspec": {
   "display_name": "Python (genai)",
   "language": "python",
   "name": "genai"
  },
  "language_info": {
   "codemirror_mode": {
    "name": "ipython",
    "version": 3
   },
   "file_extension": ".py",
   "mimetype": "text/x-python",
   "name": "python",
   "nbconvert_exporter": "python",
   "pygments_lexer": "ipython3",
   "version": "3.10.18"
  }
 },
 "nbformat": 4,
 "nbformat_minor": 5
}
