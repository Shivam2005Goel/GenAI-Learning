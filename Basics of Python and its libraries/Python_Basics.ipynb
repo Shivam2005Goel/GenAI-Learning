{
 "cells": [
  {
   "cell_type": "markdown",
   "id": "9b581692-f43b-4767-bf5d-30c2b0b1876d",
   "metadata": {},
   "source": [
    "Initialising the numpy"
   ]
  },
  {
   "cell_type": "code",
   "execution_count": 2,
   "id": "1a135638-ad84-4dfd-8662-f3eea3d20d76",
   "metadata": {},
   "outputs": [
    {
     "name": "stdout",
     "output_type": "stream",
     "text": [
      "[1 2 3]\n"
     ]
    }
   ],
   "source": [
    "\n",
    "import numpy as np\n",
    "arr = np.array([1,2,3])\n",
    "print(arr)\n"
   ]
  },
  {
   "cell_type": "code",
   "execution_count": 3,
   "id": "266a054f-72bc-451b-9e2a-9b81133cd9df",
   "metadata": {},
   "outputs": [
    {
     "name": "stdout",
     "output_type": "stream",
     "text": [
      "(3,)\n"
     ]
    }
   ],
   "source": [
    "shape = arr.shape\n",
    "print(shape)"
   ]
  },
  {
   "cell_type": "code",
   "execution_count": 4,
   "id": "e2d243dd-555e-49a1-b81f-2412b8b1fd19",
   "metadata": {},
   "outputs": [
    {
     "name": "stdout",
     "output_type": "stream",
     "text": [
      "[[1 2 3]\n",
      " [4 5 6]\n",
      " [7 8 9]]\n"
     ]
    }
   ],
   "source": [
    "l1 = [1,2,3]\n",
    "l2 = [4,5,6]\n",
    "l3 = [7,8,9]\n",
    "arr1 = np.array([l1,l2,l3])\n",
    "print(arr1)"
   ]
  },
  {
   "cell_type": "code",
   "execution_count": 5,
   "id": "4e61013b-4e37-452e-8eb5-6e7f42352281",
   "metadata": {},
   "outputs": [
    {
     "data": {
      "text/plain": [
       "(3, 3)"
      ]
     },
     "execution_count": 5,
     "metadata": {},
     "output_type": "execute_result"
    }
   ],
   "source": [
    "arr1.shape"
   ]
  },
  {
   "cell_type": "code",
   "execution_count": 6,
   "id": "15dc1666-7331-449a-a663-6ce95d6972da",
   "metadata": {},
   "outputs": [
    {
     "name": "stdout",
     "output_type": "stream",
     "text": [
      "[1 2 3]\n"
     ]
    }
   ],
   "source": [
    "print(arr1[0])"
   ]
  },
  {
   "cell_type": "markdown",
   "id": "4611bde0-4536-473e-8d8f-37a5774bbddf",
   "metadata": {},
   "source": [
    "#Indexing in the 2d array"
   ]
  },
  {
   "cell_type": "code",
   "execution_count": 7,
   "id": "bfab9279-aed4-4732-be91-7a3d247d3ae7",
   "metadata": {},
   "outputs": [
    {
     "data": {
      "text/plain": [
       "array([[6],\n",
       "       [9]])"
      ]
     },
     "execution_count": 7,
     "metadata": {},
     "output_type": "execute_result"
    }
   ],
   "source": [
    "arr1[1:3,2:3]"
   ]
  },
  {
   "cell_type": "code",
   "execution_count": 8,
   "id": "5b04bf18-0763-4d72-8704-8c368eac3761",
   "metadata": {},
   "outputs": [
    {
     "name": "stdout",
     "output_type": "stream",
     "text": [
      "[ True False False]\n"
     ]
    }
   ],
   "source": [
    "print(arr < 2)"
   ]
  },
  {
   "cell_type": "code",
   "execution_count": 9,
   "id": "05e80e32-cb83-4f6e-8fb7-ae4d41aaef9c",
   "metadata": {},
   "outputs": [
    {
     "data": {
      "text/plain": [
       "array([1])"
      ]
     },
     "execution_count": 9,
     "metadata": {},
     "output_type": "execute_result"
    }
   ],
   "source": [
    "arr[arr < 2]"
   ]
  },
  {
   "cell_type": "code",
   "execution_count": 13,
   "id": "77bdbf51-e293-48c5-be88-fbf7a54279f0",
   "metadata": {},
   "outputs": [
    {
     "data": {
      "text/plain": [
       "array([[[ 1],\n",
       "        [ 3],\n",
       "        [ 5],\n",
       "        [ 7],\n",
       "        [ 9]],\n",
       "\n",
       "       [[11],\n",
       "        [13],\n",
       "        [15],\n",
       "        [17],\n",
       "        [19]]])"
      ]
     },
     "execution_count": 13,
     "metadata": {},
     "output_type": "execute_result"
    }
   ],
   "source": [
    "np.arange(1,20,2).reshape(2,5,1)"
   ]
  },
  {
   "cell_type": "code",
   "execution_count": 14,
   "id": "1fc196b5-104c-42e6-af26-5b3e15efc684",
   "metadata": {},
   "outputs": [
    {
     "data": {
      "text/plain": [
       "array([[1., 1., 1.],\n",
       "       [1., 1., 1.],\n",
       "       [1., 1., 1.],\n",
       "       [1., 1., 1.],\n",
       "       [1., 1., 1.]])"
      ]
     },
     "execution_count": 14,
     "metadata": {},
     "output_type": "execute_result"
    }
   ],
   "source": [
    "np.ones((5,3))\n"
   ]
  },
  {
   "cell_type": "code",
   "execution_count": 15,
   "id": "3bad3480-a5c3-43d8-8c9f-53c311d56e90",
   "metadata": {},
   "outputs": [
    {
     "data": {
      "text/plain": [
       "array([[0., 0., 0., 0., 0.],\n",
       "       [0., 0., 0., 0., 0.],\n",
       "       [0., 0., 0., 0., 0.],\n",
       "       [0., 0., 0., 0., 0.]])"
      ]
     },
     "execution_count": 15,
     "metadata": {},
     "output_type": "execute_result"
    }
   ],
   "source": [
    "np.zeros((4,5))\n"
   ]
  },
  {
   "cell_type": "code",
   "execution_count": 18,
   "id": "eb6dd21a-9fe1-49ce-bec2-01344b16f809",
   "metadata": {},
   "outputs": [
    {
     "data": {
      "text/plain": [
       "10"
      ]
     },
     "execution_count": 18,
     "metadata": {},
     "output_type": "execute_result"
    }
   ],
   "source": [
    "np.random.randint(10,50)\n"
   ]
  },
  {
   "cell_type": "code",
   "execution_count": 20,
   "id": "ba9500bc-0193-43a1-9deb-ad9bd8b9e066",
   "metadata": {},
   "outputs": [
    {
     "data": {
      "text/plain": [
       "array([[ 0.02406035,  0.74357234,  0.83855013, -0.02316873, -1.02464549,\n",
       "        -1.68348018],\n",
       "       [-0.76074704, -0.73752141, -1.30555908, -1.84033209, -1.39408929,\n",
       "         0.04059552],\n",
       "       [ 1.26326518, -0.44467946,  1.25239898,  1.56287605,  0.29542528,\n",
       "        -0.73752379],\n",
       "       [ 0.71705434, -0.17365825,  0.94461299, -0.02183369,  1.86035587,\n",
       "         1.91598894],\n",
       "       [-0.39541757, -0.28145509, -0.36723423,  0.42017957,  1.17275041,\n",
       "        -0.25722184]])"
      ]
     },
     "execution_count": 20,
     "metadata": {},
     "output_type": "execute_result"
    }
   ],
   "source": [
    "np.random.randn(5,6)"
   ]
  },
  {
   "cell_type": "code",
   "execution_count": null,
   "id": "033b0061-7198-4537-a7c2-85e923b2a9df",
   "metadata": {},
   "outputs": [],
   "source": [
    "np.random."
   ]
  }
 ],
 "metadata": {
  "kernelspec": {
   "display_name": "Python (genai)",
   "language": "python",
   "name": "genai"
  },
  "language_info": {
   "codemirror_mode": {
    "name": "ipython",
    "version": 3
   },
   "file_extension": ".py",
   "mimetype": "text/x-python",
   "name": "python",
   "nbconvert_exporter": "python",
   "pygments_lexer": "ipython3",
   "version": "3.10.18"
  }
 },
 "nbformat": 4,
 "nbformat_minor": 5
}
