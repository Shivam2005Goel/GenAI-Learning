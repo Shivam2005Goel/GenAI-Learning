{
 "cells": [
  {
   "cell_type": "code",
   "execution_count": 3,
   "id": "ce45a89c-7556-4bd4-afe4-0498bc3d3d3f",
   "metadata": {},
   "outputs": [
    {
     "name": "stdout",
     "output_type": "stream",
     "text": [
      "      Column1  Column2  Column3  Column4\n",
      "Row1        0        1        2        3\n",
      "Row2        4        5        6        7\n",
      "Row3        8        9       10       11\n",
      "Row4       12       13       14       15\n",
      "Row5       16       17       18       19\n"
     ]
    }
   ],
   "source": [
    "import pandas as pd\n",
    "import numpy as np\n",
    "from io import StringIO\n",
    "import requests\n",
    "from dataclasses import dataclass\n",
    "\n",
    "df = pd.DataFrame(data = np.arange(0,20).reshape(5,4),index =['Row1','Row2','Row3','Row4','Row5'],columns = ['Column1','Column2','Column3','Column4'])\n",
    "print(df)\n"
   ]
  },
  {
   "cell_type": "code",
   "execution_count": 4,
   "id": "32cc0c37-a063-435c-8dbd-92d19a2f86b8",
   "metadata": {},
   "outputs": [
    {
     "data": {
      "text/html": [
       "<div>\n",
       "<style scoped>\n",
       "    .dataframe tbody tr th:only-of-type {\n",
       "        vertical-align: middle;\n",
       "    }\n",
       "\n",
       "    .dataframe tbody tr th {\n",
       "        vertical-align: top;\n",
       "    }\n",
       "\n",
       "    .dataframe thead th {\n",
       "        text-align: right;\n",
       "    }\n",
       "</style>\n",
       "<table border=\"1\" class=\"dataframe\">\n",
       "  <thead>\n",
       "    <tr style=\"text-align: right;\">\n",
       "      <th></th>\n",
       "      <th>Column1</th>\n",
       "      <th>Column2</th>\n",
       "      <th>Column3</th>\n",
       "      <th>Column4</th>\n",
       "    </tr>\n",
       "  </thead>\n",
       "  <tbody>\n",
       "    <tr>\n",
       "      <th>Row1</th>\n",
       "      <td>0</td>\n",
       "      <td>1</td>\n",
       "      <td>2</td>\n",
       "      <td>3</td>\n",
       "    </tr>\n",
       "    <tr>\n",
       "      <th>Row2</th>\n",
       "      <td>4</td>\n",
       "      <td>5</td>\n",
       "      <td>6</td>\n",
       "      <td>7</td>\n",
       "    </tr>\n",
       "    <tr>\n",
       "      <th>Row3</th>\n",
       "      <td>8</td>\n",
       "      <td>9</td>\n",
       "      <td>10</td>\n",
       "      <td>11</td>\n",
       "    </tr>\n",
       "    <tr>\n",
       "      <th>Row4</th>\n",
       "      <td>12</td>\n",
       "      <td>13</td>\n",
       "      <td>14</td>\n",
       "      <td>15</td>\n",
       "    </tr>\n",
       "    <tr>\n",
       "      <th>Row5</th>\n",
       "      <td>16</td>\n",
       "      <td>17</td>\n",
       "      <td>18</td>\n",
       "      <td>19</td>\n",
       "    </tr>\n",
       "  </tbody>\n",
       "</table>\n",
       "</div>"
      ],
      "text/plain": [
       "      Column1  Column2  Column3  Column4\n",
       "Row1        0        1        2        3\n",
       "Row2        4        5        6        7\n",
       "Row3        8        9       10       11\n",
       "Row4       12       13       14       15\n",
       "Row5       16       17       18       19"
      ]
     },
     "execution_count": 4,
     "metadata": {},
     "output_type": "execute_result"
    }
   ],
   "source": [
    "df.head()\n"
   ]
  },
  {
   "cell_type": "code",
   "execution_count": 5,
   "id": "205a87d0-c6cd-4bb5-becd-23e4e7a14c52",
   "metadata": {},
   "outputs": [
    {
     "data": {
      "text/html": [
       "<div>\n",
       "<style scoped>\n",
       "    .dataframe tbody tr th:only-of-type {\n",
       "        vertical-align: middle;\n",
       "    }\n",
       "\n",
       "    .dataframe tbody tr th {\n",
       "        vertical-align: top;\n",
       "    }\n",
       "\n",
       "    .dataframe thead th {\n",
       "        text-align: right;\n",
       "    }\n",
       "</style>\n",
       "<table border=\"1\" class=\"dataframe\">\n",
       "  <thead>\n",
       "    <tr style=\"text-align: right;\">\n",
       "      <th></th>\n",
       "      <th>Column1</th>\n",
       "      <th>Column2</th>\n",
       "      <th>Column3</th>\n",
       "      <th>Column4</th>\n",
       "    </tr>\n",
       "  </thead>\n",
       "  <tbody>\n",
       "    <tr>\n",
       "      <th>Row1</th>\n",
       "      <td>0</td>\n",
       "      <td>1</td>\n",
       "      <td>2</td>\n",
       "      <td>3</td>\n",
       "    </tr>\n",
       "    <tr>\n",
       "      <th>Row2</th>\n",
       "      <td>4</td>\n",
       "      <td>5</td>\n",
       "      <td>6</td>\n",
       "      <td>7</td>\n",
       "    </tr>\n",
       "    <tr>\n",
       "      <th>Row3</th>\n",
       "      <td>8</td>\n",
       "      <td>9</td>\n",
       "      <td>10</td>\n",
       "      <td>11</td>\n",
       "    </tr>\n",
       "    <tr>\n",
       "      <th>Row4</th>\n",
       "      <td>12</td>\n",
       "      <td>13</td>\n",
       "      <td>14</td>\n",
       "      <td>15</td>\n",
       "    </tr>\n",
       "    <tr>\n",
       "      <th>Row5</th>\n",
       "      <td>16</td>\n",
       "      <td>17</td>\n",
       "      <td>18</td>\n",
       "      <td>19</td>\n",
       "    </tr>\n",
       "  </tbody>\n",
       "</table>\n",
       "</div>"
      ],
      "text/plain": [
       "      Column1  Column2  Column3  Column4\n",
       "Row1        0        1        2        3\n",
       "Row2        4        5        6        7\n",
       "Row3        8        9       10       11\n",
       "Row4       12       13       14       15\n",
       "Row5       16       17       18       19"
      ]
     },
     "execution_count": 5,
     "metadata": {},
     "output_type": "execute_result"
    }
   ],
   "source": [
    "df.tail()"
   ]
  },
  {
   "cell_type": "code",
   "execution_count": 6,
   "id": "d7a93b16-a488-4481-a0d3-56004650ae79",
   "metadata": {},
   "outputs": [
    {
     "data": {
      "text/plain": [
       "pandas.core.frame.DataFrame"
      ]
     },
     "execution_count": 6,
     "metadata": {},
     "output_type": "execute_result"
    }
   ],
   "source": [
    "type(df)"
   ]
  },
  {
   "cell_type": "code",
   "execution_count": 7,
   "id": "92e57fe4-c037-404f-82ee-3731b2bf65c7",
   "metadata": {},
   "outputs": [
    {
     "name": "stdout",
     "output_type": "stream",
     "text": [
      "<class 'pandas.core.frame.DataFrame'>\n",
      "Index: 5 entries, Row1 to Row5\n",
      "Data columns (total 4 columns):\n",
      " #   Column   Non-Null Count  Dtype\n",
      "---  ------   --------------  -----\n",
      " 0   Column1  5 non-null      int64\n",
      " 1   Column2  5 non-null      int64\n",
      " 2   Column3  5 non-null      int64\n",
      " 3   Column4  5 non-null      int64\n",
      "dtypes: int64(4)\n",
      "memory usage: 200.0+ bytes\n"
     ]
    }
   ],
   "source": [
    "df.info()"
   ]
  },
  {
   "cell_type": "code",
   "execution_count": 8,
   "id": "19018f84-dd5a-4072-9ee2-8d1b08bdabdd",
   "metadata": {},
   "outputs": [
    {
     "data": {
      "text/html": [
       "<div>\n",
       "<style scoped>\n",
       "    .dataframe tbody tr th:only-of-type {\n",
       "        vertical-align: middle;\n",
       "    }\n",
       "\n",
       "    .dataframe tbody tr th {\n",
       "        vertical-align: top;\n",
       "    }\n",
       "\n",
       "    .dataframe thead th {\n",
       "        text-align: right;\n",
       "    }\n",
       "</style>\n",
       "<table border=\"1\" class=\"dataframe\">\n",
       "  <thead>\n",
       "    <tr style=\"text-align: right;\">\n",
       "      <th></th>\n",
       "      <th>Column1</th>\n",
       "      <th>Column2</th>\n",
       "      <th>Column3</th>\n",
       "      <th>Column4</th>\n",
       "    </tr>\n",
       "  </thead>\n",
       "  <tbody>\n",
       "    <tr>\n",
       "      <th>count</th>\n",
       "      <td>5.000000</td>\n",
       "      <td>5.000000</td>\n",
       "      <td>5.000000</td>\n",
       "      <td>5.000000</td>\n",
       "    </tr>\n",
       "    <tr>\n",
       "      <th>mean</th>\n",
       "      <td>8.000000</td>\n",
       "      <td>9.000000</td>\n",
       "      <td>10.000000</td>\n",
       "      <td>11.000000</td>\n",
       "    </tr>\n",
       "    <tr>\n",
       "      <th>std</th>\n",
       "      <td>6.324555</td>\n",
       "      <td>6.324555</td>\n",
       "      <td>6.324555</td>\n",
       "      <td>6.324555</td>\n",
       "    </tr>\n",
       "    <tr>\n",
       "      <th>min</th>\n",
       "      <td>0.000000</td>\n",
       "      <td>1.000000</td>\n",
       "      <td>2.000000</td>\n",
       "      <td>3.000000</td>\n",
       "    </tr>\n",
       "    <tr>\n",
       "      <th>25%</th>\n",
       "      <td>4.000000</td>\n",
       "      <td>5.000000</td>\n",
       "      <td>6.000000</td>\n",
       "      <td>7.000000</td>\n",
       "    </tr>\n",
       "    <tr>\n",
       "      <th>50%</th>\n",
       "      <td>8.000000</td>\n",
       "      <td>9.000000</td>\n",
       "      <td>10.000000</td>\n",
       "      <td>11.000000</td>\n",
       "    </tr>\n",
       "    <tr>\n",
       "      <th>75%</th>\n",
       "      <td>12.000000</td>\n",
       "      <td>13.000000</td>\n",
       "      <td>14.000000</td>\n",
       "      <td>15.000000</td>\n",
       "    </tr>\n",
       "    <tr>\n",
       "      <th>max</th>\n",
       "      <td>16.000000</td>\n",
       "      <td>17.000000</td>\n",
       "      <td>18.000000</td>\n",
       "      <td>19.000000</td>\n",
       "    </tr>\n",
       "  </tbody>\n",
       "</table>\n",
       "</div>"
      ],
      "text/plain": [
       "         Column1    Column2    Column3    Column4\n",
       "count   5.000000   5.000000   5.000000   5.000000\n",
       "mean    8.000000   9.000000  10.000000  11.000000\n",
       "std     6.324555   6.324555   6.324555   6.324555\n",
       "min     0.000000   1.000000   2.000000   3.000000\n",
       "25%     4.000000   5.000000   6.000000   7.000000\n",
       "50%     8.000000   9.000000  10.000000  11.000000\n",
       "75%    12.000000  13.000000  14.000000  15.000000\n",
       "max    16.000000  17.000000  18.000000  19.000000"
      ]
     },
     "execution_count": 8,
     "metadata": {},
     "output_type": "execute_result"
    }
   ],
   "source": [
    "df.describe()"
   ]
  },
  {
   "cell_type": "code",
   "execution_count": 9,
   "id": "5651e437-fc63-44ba-916a-16550515ed0a",
   "metadata": {},
   "outputs": [
    {
     "data": {
      "text/html": [
       "<div>\n",
       "<style scoped>\n",
       "    .dataframe tbody tr th:only-of-type {\n",
       "        vertical-align: middle;\n",
       "    }\n",
       "\n",
       "    .dataframe tbody tr th {\n",
       "        vertical-align: top;\n",
       "    }\n",
       "\n",
       "    .dataframe thead th {\n",
       "        text-align: right;\n",
       "    }\n",
       "</style>\n",
       "<table border=\"1\" class=\"dataframe\">\n",
       "  <thead>\n",
       "    <tr style=\"text-align: right;\">\n",
       "      <th></th>\n",
       "      <th>Column3</th>\n",
       "      <th>Column4</th>\n",
       "    </tr>\n",
       "  </thead>\n",
       "  <tbody>\n",
       "    <tr>\n",
       "      <th>Row1</th>\n",
       "      <td>2</td>\n",
       "      <td>3</td>\n",
       "    </tr>\n",
       "  </tbody>\n",
       "</table>\n",
       "</div>"
      ],
      "text/plain": [
       "      Column3  Column4\n",
       "Row1        2        3"
      ]
     },
     "execution_count": 9,
     "metadata": {},
     "output_type": "execute_result"
    }
   ],
   "source": [
    "#Indexing \n",
    "df[['Column1','Column2','Column3']] #By using Column Name\n",
    "df.loc[['Row3','Row2']]  # Indexing using the Row\n",
    "df.iloc[0:1,2:4]"
   ]
  },
  {
   "cell_type": "code",
   "execution_count": 10,
   "id": "fec61f08-9654-43e0-b4cf-74ab5ac30e17",
   "metadata": {},
   "outputs": [
    {
     "data": {
      "text/plain": [
       "array([[2, 3]])"
      ]
     },
     "execution_count": 10,
     "metadata": {},
     "output_type": "execute_result"
    }
   ],
   "source": [
    "##convert the dataframe into arrays\n",
    "df.iloc[0:1,2:4].values"
   ]
  },
  {
   "cell_type": "code",
   "execution_count": 11,
   "id": "220ecf81-ed0e-41ff-8108-766a319942e2",
   "metadata": {},
   "outputs": [
    {
     "data": {
      "text/plain": [
       "Row1    0\n",
       "Row2    0\n",
       "Row3    0\n",
       "Row4    0\n",
       "Row5    0\n",
       "dtype: int64"
      ]
     },
     "execution_count": 11,
     "metadata": {},
     "output_type": "execute_result"
    }
   ],
   "source": [
    "#Operations\n",
    "df.isnull().sum(axis = 1)\n"
   ]
  },
  {
   "cell_type": "code",
   "execution_count": 12,
   "id": "862c1385-d233-45aa-9dd7-54b98a54fb1a",
   "metadata": {},
   "outputs": [
    {
     "data": {
      "text/plain": [
       "array([ 0,  4,  8, 12, 16])"
      ]
     },
     "execution_count": 12,
     "metadata": {},
     "output_type": "execute_result"
    }
   ],
   "source": [
    "df['Column1'].unique()"
   ]
  },
  {
   "cell_type": "code",
   "execution_count": 13,
   "id": "738759d6-bf13-4cdc-85e3-1dcda1b93fa9",
   "metadata": {},
   "outputs": [
    {
     "name": "stdout",
     "output_type": "stream",
     "text": [
      "<class 'pandas.core.frame.DataFrame'>\n",
      "RangeIndex: 3 entries, 0 to 2\n",
      "Data columns (total 3 columns):\n",
      " #   Column  Non-Null Count  Dtype \n",
      "---  ------  --------------  ----- \n",
      " 0   col1    3 non-null      object\n",
      " 1   col2    3 non-null      object\n",
      " 2   col3    3 non-null      int64 \n",
      "dtypes: int64(1), object(2)\n",
      "memory usage: 200.0+ bytes\n"
     ]
    }
   ],
   "source": [
    "#How to create the dataframe from a csv string data \n",
    "data = ('col1,col2,col3\\n'\n",
    "        'x,y,1\\n'\n",
    "        'a,b,2\\n'\n",
    "        'c,d,3')\n",
    "data\n",
    "df = pd.read_csv(StringIO(data),usecols = ['col1','col2','col3'])\n",
    "df.info()"
   ]
  },
  {
   "cell_type": "code",
   "execution_count": 14,
   "id": "b60490e4-019f-441b-a7fb-decdf8940a6c",
   "metadata": {},
   "outputs": [],
   "source": [
    "df.to_csv('test.csv')\n"
   ]
  },
  {
   "cell_type": "code",
   "execution_count": 15,
   "id": "f5c1904c-68d3-4ef1-8c02-bc385b99970d",
   "metadata": {},
   "outputs": [
    {
     "data": {
      "text/html": [
       "<div>\n",
       "<style scoped>\n",
       "    .dataframe tbody tr th:only-of-type {\n",
       "        vertical-align: middle;\n",
       "    }\n",
       "\n",
       "    .dataframe tbody tr th {\n",
       "        vertical-align: top;\n",
       "    }\n",
       "\n",
       "    .dataframe thead th {\n",
       "        text-align: right;\n",
       "    }\n",
       "</style>\n",
       "<table border=\"1\" class=\"dataframe\">\n",
       "  <thead>\n",
       "    <tr style=\"text-align: right;\">\n",
       "      <th></th>\n",
       "      <th>col1</th>\n",
       "      <th>col2</th>\n",
       "      <th>col3</th>\n",
       "    </tr>\n",
       "  </thead>\n",
       "  <tbody>\n",
       "    <tr>\n",
       "      <th>0</th>\n",
       "      <td>x</td>\n",
       "      <td>y</td>\n",
       "      <td>1</td>\n",
       "    </tr>\n",
       "    <tr>\n",
       "      <th>1</th>\n",
       "      <td>a</td>\n",
       "      <td>b</td>\n",
       "      <td>2</td>\n",
       "    </tr>\n",
       "    <tr>\n",
       "      <th>2</th>\n",
       "      <td>c</td>\n",
       "      <td>d</td>\n",
       "      <td>3</td>\n",
       "    </tr>\n",
       "  </tbody>\n",
       "</table>\n",
       "</div>"
      ],
      "text/plain": [
       "  col1 col2  col3\n",
       "0    x    y     1\n",
       "1    a    b     2\n",
       "2    c    d     3"
      ]
     },
     "execution_count": 15,
     "metadata": {},
     "output_type": "execute_result"
    }
   ],
   "source": [
    "#Datatypes in csv\n",
    "df = pd.read_csv('test.csv',dtype = {'col1' : object, 'col2' : object, 'col3' : int},index_col= 0)\n",
    "df"
   ]
  },
  {
   "cell_type": "markdown",
   "id": "80108c32-42aa-4962-8841-11cbe8a30cfb",
   "metadata": {},
   "source": [
    "#Working with the JSON Files"
   ]
  },
  {
   "cell_type": "code",
   "execution_count": 16,
   "id": "9eb06e7c-0536-4c9c-9c7c-0e1a9a5bd531",
   "metadata": {},
   "outputs": [
    {
     "name": "stderr",
     "output_type": "stream",
     "text": [
      "C:\\Users\\DELL\\AppData\\Local\\Temp\\ipykernel_15156\\4103241705.py:5: FutureWarning: Passing literal json to 'read_json' is deprecated and will be removed in a future version. To read from a literal string, wrap it in a 'StringIO' object.\n",
      "  pd.read_json(data)\n"
     ]
    },
    {
     "data": {
      "text/html": [
       "<div>\n",
       "<style scoped>\n",
       "    .dataframe tbody tr th:only-of-type {\n",
       "        vertical-align: middle;\n",
       "    }\n",
       "\n",
       "    .dataframe tbody tr th {\n",
       "        vertical-align: top;\n",
       "    }\n",
       "\n",
       "    .dataframe thead th {\n",
       "        text-align: right;\n",
       "    }\n",
       "</style>\n",
       "<table border=\"1\" class=\"dataframe\">\n",
       "  <thead>\n",
       "    <tr style=\"text-align: right;\">\n",
       "      <th></th>\n",
       "      <th>row1</th>\n",
       "      <th>row2</th>\n",
       "    </tr>\n",
       "  </thead>\n",
       "  <tbody>\n",
       "    <tr>\n",
       "      <th>index_name</th>\n",
       "      <td>1</td>\n",
       "      <td>2</td>\n",
       "    </tr>\n",
       "    <tr>\n",
       "      <th>name</th>\n",
       "      <td>Shivam</td>\n",
       "      <td>Rahul</td>\n",
       "    </tr>\n",
       "    <tr>\n",
       "      <th>age</th>\n",
       "      <td>30</td>\n",
       "      <td>25</td>\n",
       "    </tr>\n",
       "  </tbody>\n",
       "</table>\n",
       "</div>"
      ],
      "text/plain": [
       "              row1   row2\n",
       "index_name       1      2\n",
       "name        Shivam  Rahul\n",
       "age             30     25"
      ]
     },
     "execution_count": 16,
     "metadata": {},
     "output_type": "execute_result"
    }
   ],
   "source": [
    "# data = '[{\"index_name\" : \"1\" , \"name\" : \"Shivam\", \"age\" : \"30\"},{\"index_name\" : \"1\" , \"name\" : \"Shivam\", \"age\" : \"30\"}]'\n",
    "data = \"\"\"{\n",
    "  \"row1\": {\"index_name\": \"1\", \"name\": \"Shivam\", \"age\": \"30\"},\n",
    "  \"row2\": {\"index_name\": \"2\", \"name\": \"Rahul\", \"age\": \"25\"}}\"\"\"\n",
    "pd.read_json(data)\n"
   ]
  },
  {
   "cell_type": "code",
   "execution_count": 17,
   "id": "528ed772-b81a-45c4-ad7a-50d5685306aa",
   "metadata": {},
   "outputs": [
    {
     "data": {
      "text/html": [
       "<div>\n",
       "<style scoped>\n",
       "    .dataframe tbody tr th:only-of-type {\n",
       "        vertical-align: middle;\n",
       "    }\n",
       "\n",
       "    .dataframe tbody tr th {\n",
       "        vertical-align: top;\n",
       "    }\n",
       "\n",
       "    .dataframe thead th {\n",
       "        text-align: right;\n",
       "    }\n",
       "</style>\n",
       "<table border=\"1\" class=\"dataframe\">\n",
       "  <thead>\n",
       "    <tr style=\"text-align: right;\">\n",
       "      <th></th>\n",
       "      <th>index_name</th>\n",
       "      <th>name</th>\n",
       "      <th>age</th>\n",
       "    </tr>\n",
       "  </thead>\n",
       "  <tbody>\n",
       "    <tr>\n",
       "      <th>row1</th>\n",
       "      <td>1</td>\n",
       "      <td>Shivam</td>\n",
       "      <td>30</td>\n",
       "    </tr>\n",
       "    <tr>\n",
       "      <th>row2</th>\n",
       "      <td>2</td>\n",
       "      <td>Rahul</td>\n",
       "      <td>25</td>\n",
       "    </tr>\n",
       "  </tbody>\n",
       "</table>\n",
       "</div>"
      ],
      "text/plain": [
       "      index_name    name  age\n",
       "row1           1  Shivam   30\n",
       "row2           2   Rahul   25"
      ]
     },
     "execution_count": 17,
     "metadata": {},
     "output_type": "execute_result"
    }
   ],
   "source": [
    "pd.read_json(StringIO(data),orient = \"index\")"
   ]
  },
  {
   "cell_type": "code",
   "execution_count": 18,
   "id": "1b3aca2b-3d4d-448f-a50a-1120afca6621",
   "metadata": {},
   "outputs": [
    {
     "data": {
      "text/html": [
       "<div>\n",
       "<style scoped>\n",
       "    .dataframe tbody tr th:only-of-type {\n",
       "        vertical-align: middle;\n",
       "    }\n",
       "\n",
       "    .dataframe tbody tr th {\n",
       "        vertical-align: top;\n",
       "    }\n",
       "\n",
       "    .dataframe thead th {\n",
       "        text-align: right;\n",
       "    }\n",
       "</style>\n",
       "<table border=\"1\" class=\"dataframe\">\n",
       "  <thead>\n",
       "    <tr style=\"text-align: right;\">\n",
       "      <th></th>\n",
       "      <th>Name</th>\n",
       "      <th>Age</th>\n",
       "    </tr>\n",
       "  </thead>\n",
       "  <tbody>\n",
       "    <tr>\n",
       "      <th>Row1</th>\n",
       "      <td>Shivam</td>\n",
       "      <td>25</td>\n",
       "    </tr>\n",
       "    <tr>\n",
       "      <th>Row2</th>\n",
       "      <td>Om</td>\n",
       "      <td>34</td>\n",
       "    </tr>\n",
       "  </tbody>\n",
       "</table>\n",
       "</div>"
      ],
      "text/plain": [
       "        Name  Age\n",
       "Row1  Shivam   25\n",
       "Row2      Om   34"
      ]
     },
     "execution_count": 18,
     "metadata": {},
     "output_type": "execute_result"
    }
   ],
   "source": [
    "data = pd.DataFrame([['Shivam',25],['Om',34]],columns = ['Name','Age'], index = ['Row1','Row2'])\n",
    "data"
   ]
  },
  {
   "cell_type": "code",
   "execution_count": 19,
   "id": "9812846b-5fc5-4fde-b701-a8476bb47d33",
   "metadata": {},
   "outputs": [
    {
     "data": {
      "text/plain": [
       "'{\"Row1\":{\"Name\":\"Shivam\",\"Age\":25},\"Row2\":{\"Name\":\"Om\",\"Age\":34}}'"
      ]
     },
     "execution_count": 19,
     "metadata": {},
     "output_type": "execute_result"
    }
   ],
   "source": [
    "data.to_json(orient = \"index\")"
   ]
  },
  {
   "cell_type": "code",
   "execution_count": 20,
   "id": "2f6d8f3f-d8c8-426e-9bb7-aecfe1efad54",
   "metadata": {},
   "outputs": [
    {
     "data": {
      "text/plain": [
       "'{\"Name\":{\"Row1\":\"Shivam\",\"Row2\":\"Om\"},\"Age\":{\"Row1\":25,\"Row2\":34}}'"
      ]
     },
     "execution_count": 20,
     "metadata": {},
     "output_type": "execute_result"
    }
   ],
   "source": [
    "data.to_json(orient = \"columns\")"
   ]
  },
  {
   "cell_type": "code",
   "execution_count": 21,
   "id": "b1cd3506-4584-4b44-991b-20388659c1cd",
   "metadata": {},
   "outputs": [
    {
     "ename": "KeyError",
     "evalue": "\"Key 'address' not found. If specifying a record_path, all elements of data should have the path.\"",
     "output_type": "error",
     "traceback": [
      "\u001b[1;31m---------------------------------------------------------------------------\u001b[0m",
      "\u001b[1;31mKeyError\u001b[0m                                  Traceback (most recent call last)",
      "File \u001b[1;32mD:\\Anaconda\\envs\\genai\\lib\\site-packages\\pandas\\io\\json\\_normalize.py:398\u001b[0m, in \u001b[0;36mjson_normalize.<locals>._pull_field\u001b[1;34m(js, spec, extract_record)\u001b[0m\n\u001b[0;32m    397\u001b[0m     \u001b[38;5;28;01melse\u001b[39;00m:\n\u001b[1;32m--> 398\u001b[0m         result \u001b[38;5;241m=\u001b[39m \u001b[43mresult\u001b[49m\u001b[43m[\u001b[49m\u001b[43mspec\u001b[49m\u001b[43m]\u001b[49m\n\u001b[0;32m    399\u001b[0m \u001b[38;5;28;01mexcept\u001b[39;00m \u001b[38;5;167;01mKeyError\u001b[39;00m \u001b[38;5;28;01mas\u001b[39;00m e:\n",
      "\u001b[1;31mKeyError\u001b[0m: 'address'",
      "\nThe above exception was the direct cause of the following exception:\n",
      "\u001b[1;31mKeyError\u001b[0m                                  Traceback (most recent call last)",
      "Cell \u001b[1;32mIn[21], line 27\u001b[0m\n\u001b[0;32m      1\u001b[0m data \u001b[38;5;241m=\u001b[39m [{\n\u001b[0;32m      2\u001b[0m     \u001b[38;5;124m\"\u001b[39m\u001b[38;5;124memployee\u001b[39m\u001b[38;5;124m\"\u001b[39m: {\n\u001b[0;32m      3\u001b[0m     \u001b[38;5;124m\"\u001b[39m\u001b[38;5;124mid\u001b[39m\u001b[38;5;124m\"\u001b[39m: \u001b[38;5;241m101\u001b[39m,\n\u001b[1;32m   (...)\u001b[0m\n\u001b[0;32m     24\u001b[0m   }\n\u001b[0;32m     25\u001b[0m }]\n\u001b[1;32m---> 27\u001b[0m \u001b[43mpd\u001b[49m\u001b[38;5;241;43m.\u001b[39;49m\u001b[43mjson_normalize\u001b[49m\u001b[43m(\u001b[49m\u001b[43mdata\u001b[49m\u001b[43m,\u001b[49m\u001b[38;5;124;43m\"\u001b[39;49m\u001b[38;5;124;43maddress\u001b[39;49m\u001b[38;5;124;43m\"\u001b[39;49m\u001b[43m,\u001b[49m\u001b[43m[\u001b[49m\u001b[38;5;124;43m\"\u001b[39;49m\u001b[38;5;124;43mstreet\u001b[39;49m\u001b[38;5;124;43m\"\u001b[39;49m\u001b[43m]\u001b[49m\u001b[43m)\u001b[49m\n",
      "File \u001b[1;32mD:\\Anaconda\\envs\\genai\\lib\\site-packages\\pandas\\io\\json\\_normalize.py:517\u001b[0m, in \u001b[0;36mjson_normalize\u001b[1;34m(data, record_path, meta, meta_prefix, record_prefix, errors, sep, max_level)\u001b[0m\n\u001b[0;32m    514\u001b[0m                 meta_vals[key]\u001b[38;5;241m.\u001b[39mappend(meta_val)\n\u001b[0;32m    515\u001b[0m             records\u001b[38;5;241m.\u001b[39mextend(recs)\n\u001b[1;32m--> 517\u001b[0m \u001b[43m_recursive_extract\u001b[49m\u001b[43m(\u001b[49m\u001b[43mdata\u001b[49m\u001b[43m,\u001b[49m\u001b[43m \u001b[49m\u001b[43mrecord_path\u001b[49m\u001b[43m,\u001b[49m\u001b[43m \u001b[49m\u001b[43m{\u001b[49m\u001b[43m}\u001b[49m\u001b[43m,\u001b[49m\u001b[43m \u001b[49m\u001b[43mlevel\u001b[49m\u001b[38;5;241;43m=\u001b[39;49m\u001b[38;5;241;43m0\u001b[39;49m\u001b[43m)\u001b[49m\n\u001b[0;32m    519\u001b[0m result \u001b[38;5;241m=\u001b[39m DataFrame(records)\n\u001b[0;32m    521\u001b[0m \u001b[38;5;28;01mif\u001b[39;00m record_prefix \u001b[38;5;129;01mis\u001b[39;00m \u001b[38;5;129;01mnot\u001b[39;00m \u001b[38;5;28;01mNone\u001b[39;00m:\n",
      "File \u001b[1;32mD:\\Anaconda\\envs\\genai\\lib\\site-packages\\pandas\\io\\json\\_normalize.py:499\u001b[0m, in \u001b[0;36mjson_normalize.<locals>._recursive_extract\u001b[1;34m(data, path, seen_meta, level)\u001b[0m\n\u001b[0;32m    497\u001b[0m \u001b[38;5;28;01melse\u001b[39;00m:\n\u001b[0;32m    498\u001b[0m     \u001b[38;5;28;01mfor\u001b[39;00m obj \u001b[38;5;129;01min\u001b[39;00m data:\n\u001b[1;32m--> 499\u001b[0m         recs \u001b[38;5;241m=\u001b[39m \u001b[43m_pull_records\u001b[49m\u001b[43m(\u001b[49m\u001b[43mobj\u001b[49m\u001b[43m,\u001b[49m\u001b[43m \u001b[49m\u001b[43mpath\u001b[49m\u001b[43m[\u001b[49m\u001b[38;5;241;43m0\u001b[39;49m\u001b[43m]\u001b[49m\u001b[43m)\u001b[49m\n\u001b[0;32m    500\u001b[0m         recs \u001b[38;5;241m=\u001b[39m [\n\u001b[0;32m    501\u001b[0m             nested_to_record(r, sep\u001b[38;5;241m=\u001b[39msep, max_level\u001b[38;5;241m=\u001b[39mmax_level)\n\u001b[0;32m    502\u001b[0m             \u001b[38;5;28;01mif\u001b[39;00m \u001b[38;5;28misinstance\u001b[39m(r, \u001b[38;5;28mdict\u001b[39m)\n\u001b[0;32m    503\u001b[0m             \u001b[38;5;28;01melse\u001b[39;00m r\n\u001b[0;32m    504\u001b[0m             \u001b[38;5;28;01mfor\u001b[39;00m r \u001b[38;5;129;01min\u001b[39;00m recs\n\u001b[0;32m    505\u001b[0m         ]\n\u001b[0;32m    507\u001b[0m         \u001b[38;5;66;03m# For repeating the metadata later\u001b[39;00m\n",
      "File \u001b[1;32mD:\\Anaconda\\envs\\genai\\lib\\site-packages\\pandas\\io\\json\\_normalize.py:421\u001b[0m, in \u001b[0;36mjson_normalize.<locals>._pull_records\u001b[1;34m(js, spec)\u001b[0m\n\u001b[0;32m    415\u001b[0m \u001b[38;5;28;01mdef\u001b[39;00m\u001b[38;5;250m \u001b[39m\u001b[38;5;21m_pull_records\u001b[39m(js: \u001b[38;5;28mdict\u001b[39m[\u001b[38;5;28mstr\u001b[39m, Any], spec: \u001b[38;5;28mlist\u001b[39m \u001b[38;5;241m|\u001b[39m \u001b[38;5;28mstr\u001b[39m) \u001b[38;5;241m-\u001b[39m\u001b[38;5;241m>\u001b[39m \u001b[38;5;28mlist\u001b[39m:\n\u001b[0;32m    416\u001b[0m \u001b[38;5;250m    \u001b[39m\u001b[38;5;124;03m\"\"\"\u001b[39;00m\n\u001b[0;32m    417\u001b[0m \u001b[38;5;124;03m    Internal function to pull field for records, and similar to\u001b[39;00m\n\u001b[0;32m    418\u001b[0m \u001b[38;5;124;03m    _pull_field, but require to return list. And will raise error\u001b[39;00m\n\u001b[0;32m    419\u001b[0m \u001b[38;5;124;03m    if has non iterable value.\u001b[39;00m\n\u001b[0;32m    420\u001b[0m \u001b[38;5;124;03m    \"\"\"\u001b[39;00m\n\u001b[1;32m--> 421\u001b[0m     result \u001b[38;5;241m=\u001b[39m \u001b[43m_pull_field\u001b[49m\u001b[43m(\u001b[49m\u001b[43mjs\u001b[49m\u001b[43m,\u001b[49m\u001b[43m \u001b[49m\u001b[43mspec\u001b[49m\u001b[43m,\u001b[49m\u001b[43m \u001b[49m\u001b[43mextract_record\u001b[49m\u001b[38;5;241;43m=\u001b[39;49m\u001b[38;5;28;43;01mTrue\u001b[39;49;00m\u001b[43m)\u001b[49m\n\u001b[0;32m    423\u001b[0m     \u001b[38;5;66;03m# GH 31507 GH 30145, GH 26284 if result is not list, raise TypeError if not\u001b[39;00m\n\u001b[0;32m    424\u001b[0m     \u001b[38;5;66;03m# null, otherwise return an empty list\u001b[39;00m\n\u001b[0;32m    425\u001b[0m     \u001b[38;5;28;01mif\u001b[39;00m \u001b[38;5;129;01mnot\u001b[39;00m \u001b[38;5;28misinstance\u001b[39m(result, \u001b[38;5;28mlist\u001b[39m):\n",
      "File \u001b[1;32mD:\\Anaconda\\envs\\genai\\lib\\site-packages\\pandas\\io\\json\\_normalize.py:401\u001b[0m, in \u001b[0;36mjson_normalize.<locals>._pull_field\u001b[1;34m(js, spec, extract_record)\u001b[0m\n\u001b[0;32m    399\u001b[0m \u001b[38;5;28;01mexcept\u001b[39;00m \u001b[38;5;167;01mKeyError\u001b[39;00m \u001b[38;5;28;01mas\u001b[39;00m e:\n\u001b[0;32m    400\u001b[0m     \u001b[38;5;28;01mif\u001b[39;00m extract_record:\n\u001b[1;32m--> 401\u001b[0m         \u001b[38;5;28;01mraise\u001b[39;00m \u001b[38;5;167;01mKeyError\u001b[39;00m(\n\u001b[0;32m    402\u001b[0m             \u001b[38;5;124mf\u001b[39m\u001b[38;5;124m\"\u001b[39m\u001b[38;5;124mKey \u001b[39m\u001b[38;5;132;01m{\u001b[39;00me\u001b[38;5;132;01m}\u001b[39;00m\u001b[38;5;124m not found. If specifying a record_path, all elements of \u001b[39m\u001b[38;5;124m\"\u001b[39m\n\u001b[0;32m    403\u001b[0m             \u001b[38;5;124mf\u001b[39m\u001b[38;5;124m\"\u001b[39m\u001b[38;5;124mdata should have the path.\u001b[39m\u001b[38;5;124m\"\u001b[39m\n\u001b[0;32m    404\u001b[0m         ) \u001b[38;5;28;01mfrom\u001b[39;00m\u001b[38;5;250m \u001b[39m\u001b[38;5;21;01me\u001b[39;00m\n\u001b[0;32m    405\u001b[0m     \u001b[38;5;28;01mif\u001b[39;00m errors \u001b[38;5;241m==\u001b[39m \u001b[38;5;124m\"\u001b[39m\u001b[38;5;124mignore\u001b[39m\u001b[38;5;124m\"\u001b[39m:\n\u001b[0;32m    406\u001b[0m         \u001b[38;5;28;01mreturn\u001b[39;00m np\u001b[38;5;241m.\u001b[39mnan\n",
      "\u001b[1;31mKeyError\u001b[0m: \"Key 'address' not found. If specifying a record_path, all elements of data should have the path.\""
     ]
    }
   ],
   "source": [
    "data = [{\n",
    "    \"employee\": {\n",
    "    \"id\": 101,\n",
    "    \"name\": \"Shivam\",\n",
    "    \"age\": 30,\n",
    "    \"address\": {\n",
    "      \"street\": \"MG Road\",\n",
    "      \"city\": \"Bengaluru\",\n",
    "      \"state\": \"Karnataka\",\n",
    "      \"pin\": 560001\n",
    "    },\n",
    "  }},\n",
    "        \n",
    "  {\"employee\": {\n",
    "    \"id\": 102,\n",
    "    \"name\": \"Rahul\",\n",
    "    \"age\": 28,\n",
    "    \"address\": {\n",
    "      \"street\": \"Sector 62\",\n",
    "      \"city\": \"Noida\",\n",
    "      \"state\": \"Uttar Pradesh\",\n",
    "      \"pin\": 201301\n",
    "    },\n",
    "  }\n",
    "}]\n",
    "\n",
    "pd.json_normalize(data,\"address\",[\"street\"])\n"
   ]
  },
  {
   "cell_type": "code",
   "execution_count": null,
   "id": "828a6538-f773-4898-9c3b-5f3009c65fea",
   "metadata": {},
   "outputs": [],
   "source": [
    "url = \"https://en.wikipedia.org/wiki/Mobile_country_code\"\n",
    "\n",
    "# Add headers to mimic a real browser\n",
    "headers = {\"User-Agent\": \"Mozilla/5.0\"}\n",
    "\n",
    "response = requests.get(url, headers=headers)\n",
    "# Now parse the HTML content\n",
    "tables = pd.read_html(response.text)\n",
    "print(type(tables))\n",
    "print(type(tables[0]))"
   ]
  },
  {
   "cell_type": "code",
   "execution_count": null,
   "id": "abd392df-ccd9-4fe4-83bf-cc1267f4e771",
   "metadata": {},
   "outputs": [],
   "source": [
    "df = pd.DataFrame(data = tables[0])\n",
    "df\n",
    "print(f\"Found {len(tables)} tables\")\n",
    "print(type(tables[0]))\n",
    "print(tables[0])\n",
    "type(tables)\n"
   ]
  },
  {
   "cell_type": "code",
   "execution_count": null,
   "id": "4817e95f-26c1-424c-b845-1039a7f7f995",
   "metadata": {},
   "outputs": [],
   "source": [
    "print(tables[0])"
   ]
  },
  {
   "cell_type": "code",
   "execution_count": null,
   "id": "24dc3839-6347-4c8c-b14a-f3430347a532",
   "metadata": {},
   "outputs": [],
   "source": [
    "df = pd.read_xml(\"practice.xml\")\n",
    "print(df)"
   ]
  },
  {
   "cell_type": "code",
   "execution_count": null,
   "id": "1f5fc423-3813-47d0-af5b-ddbbe82f90d5",
   "metadata": {},
   "outputs": [],
   "source": [
    "type(df)"
   ]
  },
  {
   "cell_type": "code",
   "execution_count": null,
   "id": "064d2aa5-d4c0-4248-894a-84ab4095b869",
   "metadata": {},
   "outputs": [],
   "source": [
    "xml = \"\"\"<?xml version=\"1.0\" encoding=\"UTF-8\"?>\n",
    "<company>\n",
    "    <employee id=\"101\">\n",
    "        <name>Shivam</name>\n",
    "        <age>30</age>\n",
    "        <department>IT</department>\n",
    "        <address>\n",
    "            <street>MG Road</street>\n",
    "            <city>Bengaluru</city>\n",
    "            <state>Karnataka</state>\n",
    "            <pin>560001</pin>\n",
    "        </address>\n",
    "    </employee>\n",
    "\n",
    "    <employee id=\"102\">\n",
    "        <name>Rahul</name>\n",
    "        <age>28</age>\n",
    "        <department>Finance</department>\n",
    "        <address>\n",
    "            <street>Sector 62</street>\n",
    "            <city>Noida</city>\n",
    "            <state>Uttar Pradesh</state>\n",
    "            <pin>201301</pin>\n",
    "        </address>\n",
    "    </employee>\n",
    "</company>\"\"\"\n",
    "\n",
    "pd.read_xml(StringIO(xml))\n"
   ]
  },
  {
   "cell_type": "code",
   "execution_count": null,
   "id": "cd395efc-2366-42f7-bf5b-c36920dc3db0",
   "metadata": {},
   "outputs": [],
   "source": [
    "#Pickling and Unpickling the data object in python\n",
    "import seaborn as sns\n",
    "\n",
    "df = sns.load_dataset('tips')\n",
    "df.head()"
   ]
  },
  {
   "cell_type": "code",
   "execution_count": null,
   "id": "e2bea006-7376-45ec-81c4-eb41c9d9a6f8",
   "metadata": {},
   "outputs": [],
   "source": [
    "import pickle"
   ]
  },
  {
   "cell_type": "code",
   "execution_count": null,
   "id": "aebaa7dd-4c09-4a8a-b440-3a0482e83b4f",
   "metadata": {},
   "outputs": [],
   "source": [
    "filename = 'file1.pkl'\n",
    "pickle.dump(df,open(filename,'wb'))"
   ]
  },
  {
   "cell_type": "code",
   "execution_count": null,
   "id": "c823d051-e918-4ecb-808f-b03ce11181da",
   "metadata": {},
   "outputs": [],
   "source": [
    "data = pickle.load(open(\"file1.pkl\",'rb'))\n",
    "data"
   ]
  },
  {
   "cell_type": "code",
   "execution_count": null,
   "id": "97f10ed2-ae9f-4992-a4d4-59704a1678a2",
   "metadata": {},
   "outputs": [],
   "source": [
    "#Python Functions Positional and the the Keyword Arguments \n",
    "\n",
    "def check(*args,**kargs):\n",
    "    print(args)\n",
    "    print(kargs)\n",
    "\n",
    "check(2,3,name = \"Shivam\",age = 30)\n",
    "\n",
    "#"
   ]
  },
  {
   "cell_type": "markdown",
   "id": "092998cd-124f-4598-afc9-1a335112da4f",
   "metadata": {},
   "source": [
    "#In the above example \n",
    "#the postional arguments -> tuple form\n",
    "#the keyword arguments -> dict form\n"
   ]
  },
  {
   "cell_type": "markdown",
   "id": "ea027c6f-7d8c-479a-8479-2faece275ccd",
   "metadata": {},
   "source": [
    "Classes in Python and OOPS"
   ]
  },
  {
   "cell_type": "code",
   "execution_count": null,
   "id": "868d7865-a07e-43bf-a6db-3930f9d40c75",
   "metadata": {},
   "outputs": [],
   "source": [
    "class Car:\n",
    "    def __init__(self,engine,tyres,windows):\n",
    "        self.engine = engine\n",
    "        self.tyres = tyres\n",
    "        self.windows = windows\n",
    "        \n",
    "    def self_driving(self):\n",
    "        print(\"The No of tyres in the car {},{}\".format(self.tyres,self.engine))\n",
    "        print(\"ghello from\",self.engine,\"No of Tyres\",self.tyres)\n",
    "        \n",
    "Car1 = Car(4,4,3)\n",
    "Car1.self_driving()\n",
    "print(Car1)"
   ]
  },
  {
   "cell_type": "markdown",
   "id": "ba26d76a-4923-444e-87e9-2396f419b414",
   "metadata": {},
   "source": [
    "Inheritance in the child class"
   ]
  },
  {
   "cell_type": "code",
   "execution_count": null,
   "id": "c4bb8dec-60a4-4cb7-b7e7-9f28a9471b03",
   "metadata": {},
   "outputs": [],
   "source": [
    "class Car:\n",
    "    def __init__(self,engines,tyres,windows):\n",
    "        self.engines = engines\n",
    "        self.tyres = tyres\n",
    "        self.windows = windows\n",
    "        \n",
    "    def self_driving(self):\n",
    "        print(\"The type of engine in the car is {}\".format(self.engines))\n",
    "\n",
    "class Audi(Car):\n",
    "    def __init__(self,engines,tyres,windows,horsepower):\n",
    "        super().__init__(self,engines,tyres,windows)\n",
    "        self.horsepower = horsepower\n",
    "    def self_driving(self):\n",
    "        \n",
    "        \n",
    "\n",
    "Car1 = Car(\"petrol\",4,3)\n",
    "Car1.self_driving()\n",
    "Audi1 = Audi(\"electric\",4,3,800)\n"
   ]
  },
  {
   "cell_type": "code",
   "execution_count": null,
   "id": "9ebe600f-ff3f-41d6-8b98-85c55d29af20",
   "metadata": {},
   "outputs": [],
   "source": [
    "#List Comprehension\n",
    "list1 = [1,2,3,4,5]\n",
    "list2 = [i**2 for i in list1]\n",
    "print(list2)"
   ]
  },
  {
   "cell_type": "code",
   "execution_count": null,
   "id": "93c959ff-d201-4c2b-b532-de2fdddeda7c",
   "metadata": {},
   "outputs": [],
   "source": [
    "list3 = [i for i in list1 if i % 2 == 0 ]\n",
    "print(list3)"
   ]
  },
  {
   "cell_type": "code",
   "execution_count": null,
   "id": "f3cb9c9a-531b-4254-86da-2b6c87716069",
   "metadata": {},
   "outputs": [],
   "source": [
    "list4 = [[1,2,3],[4,5,6]]\n",
    "list5 = [item for sublist in list4 for item in sublist]\n",
    "print(list5)"
   ]
  },
  {
   "cell_type": "code",
   "execution_count": null,
   "id": "010fb46d-3b22-47a3-b244-331800c3b277",
   "metadata": {},
   "outputs": [],
   "source": [
    "list6 = [i**2 for i in list5 if i % 2 == 0]\n",
    "print(list6)"
   ]
  },
  {
   "cell_type": "markdown",
   "id": "057d3b1d-d974-4444-9f8f-b25220df180c",
   "metadata": {},
   "source": [
    "#Lambda Functions\n"
   ]
  },
  {
   "cell_type": "code",
   "execution_count": null,
   "id": "52276f9e-993b-4c5f-8771-24dd3dd79956",
   "metadata": {},
   "outputs": [],
   "source": [
    "f = lambda x,y : x + y\n",
    "f"
   ]
  },
  {
   "cell_type": "code",
   "execution_count": null,
   "id": "1f1ae907-579a-47ee-b9eb-8ec109bb9ca2",
   "metadata": {},
   "outputs": [],
   "source": [
    "f(3,5)"
   ]
  },
  {
   "cell_type": "code",
   "execution_count": null,
   "id": "ef1095a7-2528-4374-b92c-daca70acb22e",
   "metadata": {},
   "outputs": [],
   "source": [
    "f1 = lambda x : len(x)\n",
    "print(f1(\"My name is Shivam\"))\n"
   ]
  },
  {
   "cell_type": "code",
   "execution_count": null,
   "id": "79789617-9290-4013-a8d6-218d164608d0",
   "metadata": {},
   "outputs": [],
   "source": [
    "lst = [1,2,3,4,5]\n",
    "f2 = list(map(lambda x : x**2,lst))\n",
    "print(f2)\n"
   ]
  },
  {
   "cell_type": "code",
   "execution_count": null,
   "id": "298c2ae2-de96-4c0c-a99d-435f4b103e67",
   "metadata": {},
   "outputs": [],
   "source": [
    "f3 = list(filter(lambda x : x % 2 == 0, lst))\n",
    "f3"
   ]
  },
  {
   "cell_type": "code",
   "execution_count": null,
   "id": "b3de39d0-e3d0-4872-a6d3-198bef2a83e9",
   "metadata": {},
   "outputs": [],
   "source": [
    "fruits = [\"apple\",\"banana\",\"cherry\",\"date\"]\n",
    "f4 = list(sorted(fruits,key=lambda x : len(x)))\n",
    "print(f4)"
   ]
  },
  {
   "cell_type": "code",
   "execution_count": null,
   "id": "1c1cdab0-19fa-4e2b-bd63-cc5583f2e4e2",
   "metadata": {},
   "outputs": [],
   "source": [
    "data = {'a' : 5 , 'b' : 6, 'c' : 1}\n",
    "data1 = max(data,key = lambda x : data[x])\n",
    "print(data1)"
   ]
  },
  {
   "cell_type": "code",
   "execution_count": null,
   "id": "9157e534-6d97-4f28-8b43-3aa41dea2607",
   "metadata": {},
   "outputs": [],
   "source": [
    "#Data Classes\n",
    "from dataclasses import dataclass\n",
    "\n",
    "@dataclass\n",
    "class Person:\n",
    "    name : str\n",
    "    age : int\n",
    "    profession : str\n",
    "\n",
    "@dataclass\n",
    "class student(Person):\n",
    "    marks : list\n",
    "\n",
    "std1 = student(\"Shivam\",21,\"Student\",[10,9,8,10])\n",
    "print(std1.marks)"
   ]
  },
  {
   "cell_type": "code",
   "execution_count": 24,
   "id": "1f970c6e-ccda-4186-9cae-8dbffc5321df",
   "metadata": {},
   "outputs": [
    {
     "name": "stdout",
     "output_type": "stream",
     "text": [
      "Shivam\n"
     ]
    }
   ],
   "source": [
    "@dataclass\n",
    "class Address:\n",
    "    street : str\n",
    "    city : str\n",
    "    pin_code : int\n",
    "\n",
    "@dataclass\n",
    "class Person(): \n",
    "    name : str\n",
    "    age : int\n",
    "    address : Address\n",
    "\n",
    "address1 = Address(\"D-204\",\"Prashant Vihar\",110085)\n",
    "p1 = Person(\"Shivam\",20,address1)\n",
    "print(p1.name)\n",
    "\n",
    "\n",
    "    \n",
    "    "
   ]
  },
  {
   "cell_type": "code",
   "execution_count": 27,
   "id": "e9d4455a-15b8-44b2-801c-3f9330c3e7a2",
   "metadata": {},
   "outputs": [
    {
     "name": "stdout",
     "output_type": "stream",
     "text": [
      "Shivam has 20 age\n",
      "None\n"
     ]
    }
   ],
   "source": [
    "#Learn about the access specifiers like public, private, protected\n",
    "#__name -> private\n",
    "#_name -> protected\n",
    "\n",
    "class Person():\n",
    "    name : str\n",
    "    age : int\n",
    "    def __init__(self,name,age):\n",
    "        self.__name = name\n",
    "        self.__age = age      #This is  private \n",
    "    def getInfo(self):\n",
    "        print(f\"{self.__name} has age of {self.__age}\")\n",
    "\n",
    "p2 = Person(\"Shivam\",20)\n",
    "p2.getInfo()\n"
   ]
  },
  {
   "cell_type": "code",
   "execution_count": 31,
   "id": "d4186738-bbc0-44c3-b90c-e026d27431b6",
   "metadata": {},
   "outputs": [
    {
     "name": "stdout",
     "output_type": "stream",
     "text": [
      "Akanksha has age of 23\n"
     ]
    },
    {
     "ename": "AttributeError",
     "evalue": "'Student' object has no attribute 'name'",
     "output_type": "error",
     "traceback": [
      "\u001b[1;31m---------------------------------------------------------------------------\u001b[0m",
      "\u001b[1;31mAttributeError\u001b[0m                            Traceback (most recent call last)",
      "Cell \u001b[1;32mIn[31], line 20\u001b[0m\n\u001b[0;32m     18\u001b[0m s1 \u001b[38;5;241m=\u001b[39m Student(\u001b[38;5;124m\"\u001b[39m\u001b[38;5;124mAkanksha\u001b[39m\u001b[38;5;124m\"\u001b[39m,\u001b[38;5;241m23\u001b[39m)\n\u001b[0;32m     19\u001b[0m s1\u001b[38;5;241m.\u001b[39mgetInfo()\n\u001b[1;32m---> 20\u001b[0m \u001b[43ms1\u001b[49m\u001b[38;5;241;43m.\u001b[39;49m\u001b[43mname\u001b[49m\n",
      "\u001b[1;31mAttributeError\u001b[0m: 'Student' object has no attribute 'name'"
     ]
    }
   ],
   "source": [
    "class Person():\n",
    "    name : str\n",
    "    age : int\n",
    "    def __init__(self,name,age):\n",
    "        self._name = name\n",
    "        self._age = age\n",
    "\n",
    "class Student(Person):\n",
    "    def __init__(self,name,age):\n",
    "        super().__init__(name,age)   #This is Protected\n",
    "    def getInfo(self):\n",
    "        print(f\"{self._name} has age of {self._age}\")\n",
    "        \n",
    "\n",
    "p2 = Person(\"Shivam\",20)\n",
    "# p2.getInfo()\n",
    "\n",
    "s1 = Student(\"Akanksha\",23)\n",
    "s1.getInfo()\n",
    "s1.name"
   ]
  },
  {
   "cell_type": "code",
   "execution_count": null,
   "id": "4f6c837c-8432-4569-b9f3-29be31887c54",
   "metadata": {},
   "outputs": [],
   "source": []
  }
 ],
 "metadata": {
  "kernelspec": {
   "display_name": "Python (genai)",
   "language": "python",
   "name": "genai"
  },
  "language_info": {
   "codemirror_mode": {
    "name": "ipython",
    "version": 3
   },
   "file_extension": ".py",
   "mimetype": "text/x-python",
   "name": "python",
   "nbconvert_exporter": "python",
   "pygments_lexer": "ipython3",
   "version": "3.10.18"
  },
  "widgets": {
   "application/vnd.jupyter.widget-state+json": {
    "state": {},
    "version_major": 2,
    "version_minor": 0
   }
  }
 },
 "nbformat": 4,
 "nbformat_minor": 5
}
